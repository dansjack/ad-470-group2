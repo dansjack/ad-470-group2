{
  "cells": [
    {
      "cell_type": "markdown",
      "metadata": {
        "id": "view-in-github",
        "colab_type": "text"
      },
      "source": [
        "<a href=\"https://colab.research.google.com/github/dansjack/ad-470-group2/blob/jcw-project3/QA_Bot.ipynb\" target=\"_parent\"><img src=\"https://colab.research.google.com/assets/colab-badge.svg\" alt=\"Open In Colab\"/></a>"
      ]
    },
    {
      "cell_type": "markdown",
      "metadata": {
        "id": "GrFpZXNQB9FW"
      },
      "source": [
        "#### Copyright 2018 Google LLC."
      ]
    },
    {
      "cell_type": "code",
      "execution_count": null,
      "metadata": {
        "id": "43_9Kh8LCDPK"
      },
      "outputs": [],
      "source": [
        "# Licensed under the Apache License, Version 2.0 (the \"License\");\n",
        "# you may not use this file except in compliance with the License.\n",
        "# You may obtain a copy of the License at\n",
        "#\n",
        "# https://www.apache.org/licenses/LICENSE-2.0\n",
        "#\n",
        "# Unless required by applicable law or agreed to in writing, software\n",
        "# distributed under the License is distributed on an \"AS IS\" BASIS,\n",
        "# WITHOUT WARRANTIES OR CONDITIONS OF ANY KIND, either express or implied.\n",
        "# See the License for the specific language governing permissions and\n",
        "# limitations under the License."
      ]
    },
    {
      "cell_type": "markdown",
      "metadata": {
        "id": "YHK6DyunSbs4"
      },
      "source": [
        "# Business Problem Definition\n",
        "## How May I Serve You?\n",
        "### Chat bot\n",
        "\n",
        "Design a chat bot using a domain and dataset of choice, deploy the chat bot to a web service accessible over the internet.\n",
        "\n",
        "In this notebook we will build a model to answer open domain questions based on HotpotQA dataset.  \n"
      ]
    },
    {
      "cell_type": "markdown",
      "source": [
        "# Setup\n",
        "\n",
        "Libraries needed to run.\n",
        "\n",
        "Only need to run once."
      ],
      "metadata": {
        "id": "SFuKza6YH9iU"
      }
    },
    {
      "cell_type": "code",
      "source": [
        "# Download Spacy language models\n",
        "!python3 -m spacy download en"
      ],
      "metadata": {
        "id": "vLK04nOeID6o",
        "colab": {
          "base_uri": "https://localhost:8080/"
        },
        "outputId": "b10cfce3-fe64-4cba-db8a-d02f52477e7a"
      },
      "execution_count": null,
      "outputs": [
        {
          "output_type": "stream",
          "name": "stdout",
          "text": [
            "Collecting en_core_web_sm==2.2.5\n",
            "  Downloading https://github.com/explosion/spacy-models/releases/download/en_core_web_sm-2.2.5/en_core_web_sm-2.2.5.tar.gz (12.0 MB)\n",
            "\u001b[K     |████████████████████████████████| 12.0 MB 5.3 MB/s \n",
            "\u001b[?25hRequirement already satisfied: spacy>=2.2.2 in /usr/local/lib/python3.7/dist-packages (from en_core_web_sm==2.2.5) (2.2.4)\n",
            "Requirement already satisfied: catalogue<1.1.0,>=0.0.7 in /usr/local/lib/python3.7/dist-packages (from spacy>=2.2.2->en_core_web_sm==2.2.5) (1.0.0)\n",
            "Requirement already satisfied: requests<3.0.0,>=2.13.0 in /usr/local/lib/python3.7/dist-packages (from spacy>=2.2.2->en_core_web_sm==2.2.5) (2.23.0)\n",
            "Requirement already satisfied: murmurhash<1.1.0,>=0.28.0 in /usr/local/lib/python3.7/dist-packages (from spacy>=2.2.2->en_core_web_sm==2.2.5) (1.0.7)\n",
            "Requirement already satisfied: preshed<3.1.0,>=3.0.2 in /usr/local/lib/python3.7/dist-packages (from spacy>=2.2.2->en_core_web_sm==2.2.5) (3.0.6)\n",
            "Requirement already satisfied: setuptools in /usr/local/lib/python3.7/dist-packages (from spacy>=2.2.2->en_core_web_sm==2.2.5) (57.4.0)\n",
            "Requirement already satisfied: blis<0.5.0,>=0.4.0 in /usr/local/lib/python3.7/dist-packages (from spacy>=2.2.2->en_core_web_sm==2.2.5) (0.4.1)\n",
            "Requirement already satisfied: wasabi<1.1.0,>=0.4.0 in /usr/local/lib/python3.7/dist-packages (from spacy>=2.2.2->en_core_web_sm==2.2.5) (0.9.1)\n",
            "Requirement already satisfied: tqdm<5.0.0,>=4.38.0 in /usr/local/lib/python3.7/dist-packages (from spacy>=2.2.2->en_core_web_sm==2.2.5) (4.64.0)\n",
            "Requirement already satisfied: srsly<1.1.0,>=1.0.2 in /usr/local/lib/python3.7/dist-packages (from spacy>=2.2.2->en_core_web_sm==2.2.5) (1.0.5)\n",
            "Requirement already satisfied: thinc==7.4.0 in /usr/local/lib/python3.7/dist-packages (from spacy>=2.2.2->en_core_web_sm==2.2.5) (7.4.0)\n",
            "Requirement already satisfied: cymem<2.1.0,>=2.0.2 in /usr/local/lib/python3.7/dist-packages (from spacy>=2.2.2->en_core_web_sm==2.2.5) (2.0.6)\n",
            "Requirement already satisfied: plac<1.2.0,>=0.9.6 in /usr/local/lib/python3.7/dist-packages (from spacy>=2.2.2->en_core_web_sm==2.2.5) (1.1.3)\n",
            "Requirement already satisfied: numpy>=1.15.0 in /usr/local/lib/python3.7/dist-packages (from spacy>=2.2.2->en_core_web_sm==2.2.5) (1.21.6)\n",
            "Requirement already satisfied: importlib-metadata>=0.20 in /usr/local/lib/python3.7/dist-packages (from catalogue<1.1.0,>=0.0.7->spacy>=2.2.2->en_core_web_sm==2.2.5) (4.11.3)\n",
            "Requirement already satisfied: zipp>=0.5 in /usr/local/lib/python3.7/dist-packages (from importlib-metadata>=0.20->catalogue<1.1.0,>=0.0.7->spacy>=2.2.2->en_core_web_sm==2.2.5) (3.8.0)\n",
            "Requirement already satisfied: typing-extensions>=3.6.4 in /usr/local/lib/python3.7/dist-packages (from importlib-metadata>=0.20->catalogue<1.1.0,>=0.0.7->spacy>=2.2.2->en_core_web_sm==2.2.5) (4.2.0)\n",
            "Requirement already satisfied: idna<3,>=2.5 in /usr/local/lib/python3.7/dist-packages (from requests<3.0.0,>=2.13.0->spacy>=2.2.2->en_core_web_sm==2.2.5) (2.10)\n",
            "Requirement already satisfied: urllib3!=1.25.0,!=1.25.1,<1.26,>=1.21.1 in /usr/local/lib/python3.7/dist-packages (from requests<3.0.0,>=2.13.0->spacy>=2.2.2->en_core_web_sm==2.2.5) (1.24.3)\n",
            "Requirement already satisfied: chardet<4,>=3.0.2 in /usr/local/lib/python3.7/dist-packages (from requests<3.0.0,>=2.13.0->spacy>=2.2.2->en_core_web_sm==2.2.5) (3.0.4)\n",
            "Requirement already satisfied: certifi>=2017.4.17 in /usr/local/lib/python3.7/dist-packages (from requests<3.0.0,>=2.13.0->spacy>=2.2.2->en_core_web_sm==2.2.5) (2021.10.8)\n",
            "\u001b[38;5;2m✔ Download and installation successful\u001b[0m\n",
            "You can now load the model via spacy.load('en_core_web_sm')\n",
            "\u001b[38;5;2m✔ Linking successful\u001b[0m\n",
            "/usr/local/lib/python3.7/dist-packages/en_core_web_sm -->\n",
            "/usr/local/lib/python3.7/dist-packages/spacy/data/en\n",
            "You can now load the model via spacy.load('en')\n"
          ]
        }
      ]
    },
    {
      "cell_type": "markdown",
      "metadata": {
        "id": "E3sSwzshfSpE"
      },
      "source": [
        "# Data Ingestion\n",
        "## Data Download\n",
        "\n",
        "HotpotQA is a question answering dataset featuring natural, multi-hop questions, with strong supervision for supporting facts to enable more explainable question answering systems. It is collected by a team of NLP researchers at Carnegie Mellon University, Stanford University, and Université de Montréal."
      ]
    },
    {
      "cell_type": "code",
      "execution_count": null,
      "metadata": {
        "id": "XK-IN_zNgLlT",
        "colab": {
          "base_uri": "https://localhost:8080/"
        },
        "outputId": "731eddb4-1af0-4aca-9d51-4896a2820c1e"
      },
      "outputs": [
        {
          "output_type": "stream",
          "name": "stdout",
          "text": [
            "--2022-05-17 04:55:51--  http://curtis.ml.cmu.edu/datasets/hotpot/hotpot_dev_distractor_v1.json\n",
            "Resolving curtis.ml.cmu.edu (curtis.ml.cmu.edu)... 128.2.204.193\n",
            "Connecting to curtis.ml.cmu.edu (curtis.ml.cmu.edu)|128.2.204.193|:80... connected.\n",
            "HTTP request sent, awaiting response... 200 OK\n",
            "Length: 46320117 (44M) [application/json]\n",
            "Saving to: ‘hotpot_dev_distractor_v1.json’\n",
            "\n",
            "hotpot_dev_distract 100%[===================>]  44.17M  55.8MB/s    in 0.8s    \n",
            "\n",
            "2022-05-17 04:55:52 (55.8 MB/s) - ‘hotpot_dev_distractor_v1.json’ saved [46320117/46320117]\n",
            "\n",
            "--2022-05-17 04:55:52--  http://curtis.ml.cmu.edu/datasets/hotpot/hotpot_dev_fullwiki_v1.json\n",
            "Resolving curtis.ml.cmu.edu (curtis.ml.cmu.edu)... 128.2.204.193\n",
            "Connecting to curtis.ml.cmu.edu (curtis.ml.cmu.edu)|128.2.204.193|:80... connected.\n",
            "HTTP request sent, awaiting response... 200 OK\n",
            "Length: 47454698 (45M) [application/json]\n",
            "Saving to: ‘hotpot_dev_fullwiki_v1.json’\n",
            "\n",
            "hotpot_dev_fullwiki 100%[===================>]  45.26M  38.1MB/s    in 1.2s    \n",
            "\n",
            "2022-05-17 04:55:54 (38.1 MB/s) - ‘hotpot_dev_fullwiki_v1.json’ saved [47454698/47454698]\n",
            "\n",
            "--2022-05-17 04:55:54--  http://curtis.ml.cmu.edu/datasets/hotpot/hotpot_train_v1.1.json\n",
            "Resolving curtis.ml.cmu.edu (curtis.ml.cmu.edu)... 128.2.204.193\n",
            "Connecting to curtis.ml.cmu.edu (curtis.ml.cmu.edu)|128.2.204.193|:80... connected.\n",
            "HTTP request sent, awaiting response... 200 OK\n",
            "Length: 566426227 (540M) [application/json]\n",
            "Saving to: ‘hotpot_train_v1.1.json’\n",
            "\n",
            "hotpot_train_v1.1.j 100%[===================>] 540.19M  76.3MB/s    in 7.8s    \n",
            "\n",
            "2022-05-17 04:56:02 (69.0 MB/s) - ‘hotpot_train_v1.1.json’ saved [566426227/566426227]\n",
            "\n",
            "--2022-05-17 04:56:02--  http://curtis.ml.cmu.edu/datasets/hotpot/hotpot_test_fullwiki_v1.json\n",
            "Resolving curtis.ml.cmu.edu (curtis.ml.cmu.edu)... 128.2.204.193\n",
            "Connecting to curtis.ml.cmu.edu (curtis.ml.cmu.edu)|128.2.204.193|:80... connected.\n",
            "HTTP request sent, awaiting response... 200 OK\n",
            "Length: 46213747 (44M) [application/json]\n",
            "Saving to: ‘hotpot_test_fullwiki_v1.json’\n",
            "\n",
            "hotpot_test_fullwik 100%[===================>]  44.07M  48.3MB/s    in 0.9s    \n",
            "\n",
            "2022-05-17 04:56:03 (48.3 MB/s) - ‘hotpot_test_fullwiki_v1.json’ saved [46213747/46213747]\n",
            "\n"
          ]
        }
      ],
      "source": [
        "# Download Hotpot Data\n",
        "!wget -nc http://curtis.ml.cmu.edu/datasets/hotpot/hotpot_dev_distractor_v1.json\n",
        "!wget -nc http://curtis.ml.cmu.edu/datasets/hotpot/hotpot_dev_fullwiki_v1.json\n",
        "!wget -nc http://curtis.ml.cmu.edu/datasets/hotpot/hotpot_train_v1.1.json\n",
        "!wget -nc http://curtis.ml.cmu.edu/datasets/hotpot/hotpot_test_fullwiki_v1.json"
      ]
    },
    {
      "cell_type": "markdown",
      "metadata": {
        "id": "grzOIOhoY366"
      },
      "source": [
        "## Data Load\n",
        "\n",
        "###TODO - Jeff"
      ]
    },
    {
      "cell_type": "code",
      "execution_count": null,
      "metadata": {
        "id": "LWkSRoJRfvGL",
        "colab": {
          "base_uri": "https://localhost:8080/"
        },
        "outputId": "0e2c2891-9a83-4eb4-de16-ddb852e49979"
      },
      "outputs": [
        {
          "output_type": "stream",
          "name": "stdout",
          "text": [
            "training records: 90447\n",
            "dev full records: 7405\n",
            "test full records: 7405\n",
            "dev distractor records: 7405\n"
          ]
        }
      ],
      "source": [
        "import os\n",
        "import pandas as pd\n",
        "\n",
        "trainhp = pd.read_json(\"hotpot_train_v1.1.json\")\n",
        "print(\"training records: \" + str(len(trainhp)))\n",
        "\n",
        "devfullhp = pd.read_json(\"hotpot_dev_fullwiki_v1.json\")\n",
        "print(\"dev full records: \" + str(len(devfullhp)))\n",
        "\n",
        "testhp = pd.read_json(\"hotpot_test_fullwiki_v1.json\")\n",
        "print(\"test full records: \" + str(len(testhp)))\n",
        "\n",
        "devdisthp = pd.read_json(\"hotpot_dev_distractor_v1.json\")\n",
        "print(\"dev distractor records: \" + str(len(devdisthp)))"
      ]
    },
    {
      "cell_type": "markdown",
      "metadata": {
        "id": "02r1oXaegECk"
      },
      "source": [
        "# Data Analysis\n",
        "\n",
        "### TODO - Jeff"
      ]
    },
    {
      "cell_type": "code",
      "execution_count": null,
      "metadata": {
        "id": "ap-nt8Byfaov"
      },
      "outputs": [],
      "source": [
        "# TODO - Jeff"
      ]
    },
    {
      "cell_type": "markdown",
      "metadata": {
        "id": "Q4mticgLs5Yf"
      },
      "source": [
        "# Clean Up\n",
        "\n",
        "Before running again run the following cell to terminate the kernel and free memory resources:"
      ]
    },
    {
      "cell_type": "code",
      "execution_count": null,
      "metadata": {
        "id": "Pjaok2GqtBtI"
      },
      "outputs": [],
      "source": [
        "import os, signal\n",
        "os.kill(os.getpid(), signal.SIGKILL)"
      ]
    }
  ],
  "metadata": {
    "accelerator": "GPU",
    "colab": {
      "collapsed_sections": [
        "GrFpZXNQB9FW",
        "YHK6DyunSbs4"
      ],
      "name": "QA Bot.ipynb",
      "provenance": [],
      "toc_visible": true,
      "include_colab_link": true
    },
    "kernelspec": {
      "name": "python3",
      "display_name": "Python 3"
    }
  },
  "nbformat": 4,
  "nbformat_minor": 0
}